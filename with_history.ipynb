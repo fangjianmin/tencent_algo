{
 "cells": [
  {
   "cell_type": "code",
   "execution_count": null,
   "metadata": {},
   "outputs": [],
   "source": [
    "test_samplefile = pd.read_csv('E:\\\\work\\\\tencent\\\\algo.qq.com_641013010_testa\\\\testA\\\\test_sample.dat ',sep='\\t',\n",
    "                              nrows=30000,header=None,names=['样本id','广告id','创建时间','素材尺寸','广告行业id'\n",
    "                                                           ,'商品类型','商品id','广告账户id','投放时间','人群定向'\n",
    "                                                            ,'出价'])\n",
    "test_sampledf = pd.DataFrame(test_samplefile)"
   ]
  },
  {
   "cell_type": "code",
   "execution_count": null,
   "metadata": {},
   "outputs": [],
   "source": [
    "sampleadlist=test_sampledf.广告id.unique()"
   ]
  },
  {
   "cell_type": "code",
   "execution_count": null,
   "metadata": {},
   "outputs": [],
   "source": [
    "# 筛选出历史曝光中样本id相关的曝光记录\n",
    "exposureLogfile = pd.read_csv('E:\\\\work\\\\tencent\\\\algo.qq.com_641013010_testa\\\\testA\\\\totalExposureLog.out ',sep='\\t',\n",
    "                              header=None,names=['请求id','请求时间','广告位id','用户id','曝光广告id'\n",
    "                                                            ,'素材尺寸','出价bid','pctr','quality_ecpm','totalEcpm']\n",
    "                              ,iterator=True,low_memory =False)\n",
    "n=3000\n",
    "temp=pd.DataFrame()\n",
    "for i in range(n):\n",
    "    try:\n",
    "        print(i)\n",
    "        user = exposureLogfile.get_chunk(100000)\n",
    "        user.drop_duplicates(keep='first', inplace=True)\n",
    "        user=user[user['曝光广告id'].isin(sampleadlist)]\n",
    "        if (temp.empty):\n",
    "            temp=user\n",
    "        else:\n",
    "            temp=temp.append(user,ignore_index=True)\n",
    "    except StopIteration:\n",
    "        break"
   ]
  },
  {
   "cell_type": "code",
   "execution_count": null,
   "metadata": {},
   "outputs": [],
   "source": [
    "temp['请求时间']=temp['请求时间'].apply(lambda x:time.strftime(\"%Y%m%d\",time.localtime(x))) \n",
    "temp.to_csv(\"E:\\\\work\\\\tencent\\\\algo.qq.com_641013010_testa\\\\testA\\\\histroy_sample.csv\",\n",
    "            sep=\"\\t\",index=False,encoding=\"utf-8\",header=None)"
   ]
  },
  {
   "cell_type": "code",
   "execution_count": null,
   "metadata": {},
   "outputs": [],
   "source": [
    "temp=pd.DataFrame(pd.read_csv('E:\\\\work\\\\tencent\\\\algo.qq.com_641013010_testa\\\\testA\\\\histroy_sample.csv ',sep='\\t',\n",
    "                              header=None,names=['请求id','请求时间','广告位id','用户id','广告id'\n",
    "                                                            ,'素材尺寸','出价','pctr','quality_ecpm','totalEcpm']\n",
    "                              ,low_memory =False)\n",
    "                 )"
   ]
  },
  {
   "cell_type": "code",
   "execution_count": null,
   "metadata": {},
   "outputs": [],
   "source": [
    "temp1=temp.groupby(['广告id','请求时间','素材尺寸','出价'])['请求id'].count().reset_index()\n",
    "temp1.rename(columns={\"请求id\":\"曝光次数\"},inplace=True)"
   ]
  },
  {
   "cell_type": "code",
   "execution_count": null,
   "metadata": {},
   "outputs": [],
   "source": [
    "#temp2=temp1.groupby(['广告id','出价'])['曝光次数'].median().reset_index()\n",
    "temp2=temp1.groupby(['广告id','出价'])['曝光次数'].median().reset_index()\n",
    "temp2.to_csv(\"E:\\\\work\\\\tencent\\\\algo.qq.com_641013010_testa\\\\testA\\\\histroy_sample1.csv\",\n",
    "            sep=\"\\t\",index=False,encoding=\"utf-8\")"
   ]
  },
  {
   "cell_type": "code",
   "execution_count": null,
   "metadata": {},
   "outputs": [],
   "source": [
    "test_samplefile = pd.read_csv('E:\\\\work\\\\tencent\\\\algo.qq.com_641013010_testa\\\\testA\\\\test_sample.dat ',sep='\\t',\n",
    "                              nrows=30000,header=None,names=['样本id','广告id','创建时间','素材尺寸','广告行业id'\n",
    "                                                           ,'商品类型','商品id','广告账户id','投放时间','人群定向'\n",
    "                                                            ,'出价'])\n",
    "test_sampledf = pd.DataFrame(test_samplefile)"
   ]
  },
  {
   "cell_type": "code",
   "execution_count": null,
   "metadata": {},
   "outputs": [],
   "source": [
    "test_sampledf['排名']=((test_sampledf['出价'].groupby(test_sampledf['广告id']).rank(ascending=1,method='dense'))).round(decimals=4)"
   ]
  },
  {
   "cell_type": "code",
   "execution_count": null,
   "metadata": {},
   "outputs": [],
   "source": [
    "#test_sampledf=pd.merge(test_sampledf,temp2,how=\"left\",left_on=['广告id','出价'],right_on=['广告id','出价'])\n",
    "test_sampledf=pd.merge(test_sampledf,temp2,how=\"left\",left_on=['广告id'],right_on=['广告id'])\n",
    "test_sampledf.to_csv(\"E:\\\\work\\\\tencent\\\\algo.qq.com_641013010_testa\\\\testA\\\\test_sample_with_his.csv\",\n",
    "            sep=\"\\t\",index=False,encoding=\"utf-8\")"
   ]
  },
  {
   "cell_type": "code",
   "execution_count": null,
   "metadata": {},
   "outputs": [],
   "source": [
    "# 根据历史广告获取中间值曝光次数，不考虑报价，将样本中同一id的排名为5的作为基准，其他的按照  基准*排名/5计算，对于新广告默认为4\n",
    "# 在excel中操作的"
   ]
  },
  {
   "cell_type": "code",
   "execution_count": null,
   "metadata": {},
   "outputs": [],
   "source": [
    "# 得分为84分"
   ]
  }
 ],
 "metadata": {
  "kernelspec": {
   "display_name": "Python 3",
   "language": "python",
   "name": "python3"
  },
  "language_info": {
   "codemirror_mode": {
    "name": "ipython",
    "version": 3
   },
   "file_extension": ".py",
   "mimetype": "text/x-python",
   "name": "python",
   "nbconvert_exporter": "python",
   "pygments_lexer": "ipython3",
   "version": "3.7.1"
  },
  "toc": {
   "base_numbering": 1,
   "nav_menu": {},
   "number_sections": true,
   "sideBar": true,
   "skip_h1_title": false,
   "title_cell": "Table of Contents",
   "title_sidebar": "Contents",
   "toc_cell": false,
   "toc_position": {},
   "toc_section_display": true,
   "toc_window_display": false
  }
 },
 "nbformat": 4,
 "nbformat_minor": 2
}
